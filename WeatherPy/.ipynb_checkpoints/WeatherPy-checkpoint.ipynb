{
 "cells": [
  {
   "cell_type": "code",
   "execution_count": 1,
   "metadata": {
    "scrolled": true
   },
   "outputs": [],
   "source": [
    "# Dependencies and Setup\n",
    "import matplotlib.pyplot as plt\n",
    "import pandas as pd\n",
    "import numpy as np\n",
    "import requests\n",
    "import time\n",
    "import openweathermapy.core as owm\n",
    "import json\n",
    "\n",
    "# Import API key\n",
    "import api_keys\n",
    "\n",
    "# Incorporated citipy to determine city based on latitude and longitude\n",
    "from citipy import citipy\n",
    "\n",
    "# Output File (CSV)\n",
    "output_data_file = \"output_data/cities.csv\"\n",
    "\n",
    "# Range of latitudes and longitudes\n",
    "lat_range = (-90, 90)\n",
    "lng_range = (-180, 180)"
   ]
  },
  {
   "cell_type": "markdown",
   "metadata": {},
   "source": [
    "## Generate Cities List"
   ]
  },
  {
   "cell_type": "code",
   "execution_count": 8,
   "metadata": {},
   "outputs": [
    {
     "name": "stdout",
     "output_type": "stream",
     "text": [
      "627\n"
     ]
    }
   ],
   "source": [
    "# List for holding lat_lngs and cities\n",
    "lat_lngs = []\n",
    "cities = []\n",
    "latitudes = []\n",
    "\n",
    "# Create a set of random lat and lng combinations\n",
    "lats = np.random.uniform(low=-90.000, high=90.000, size=1500)\n",
    "lngs = np.random.uniform(low=-180.000, high=180.000, size=1500)\n",
    "lat_lngs = zip(lats, lngs)\n",
    "\n",
    "# Identify nearest city for each lat, lng combination\n",
    "for lat_lng in lat_lngs:\n",
    "    city = citipy.nearest_city(lat_lng[0], lat_lng[1]).city_name\n",
    "    \n",
    "    # If the city is unique, then add it to a our cities list\n",
    "    if city not in cities:\n",
    "        cities.append(city)\n",
    "        latitudes.append(lat_lng[0])\n",
    "\n",
    "# Print the city count to confirm sufficient count\n",
    "print(len(cities))"
   ]
  },
  {
   "cell_type": "markdown",
   "metadata": {},
   "source": [
    "## Perform API Calls"
   ]
  },
  {
   "cell_type": "code",
   "execution_count": 9,
   "metadata": {},
   "outputs": [],
   "source": [
    "# OpenWeatherMap API Key\n",
    "api_key = api_keys.api_key\n",
    "settings = {\"units\": \"imperial\", \"appid\": api_key}\n",
    "\n",
    "# Starting URL for Weather Map API Call\n",
    "url = \"http://api.openweathermap.org/data/2.5/weather?units=Imperial&APPID=\"\n",
    "\n",
    "query_url = url + api_key + \"&q=\" + cities[1]"
   ]
  },
  {
   "cell_type": "code",
   "execution_count": 17,
   "metadata": {},
   "outputs": [],
   "source": [
    "# Create empty lists for today's max temp\n",
    "max_temps = []\n",
    "humidity = []\n",
    "cloudiness = []\n",
    "wind_speed = []"
   ]
  },
  {
   "cell_type": "code",
   "execution_count": 18,
   "metadata": {},
   "outputs": [],
   "source": [
    "for city in cities[20:50]:\n",
    "    '''\n",
    "    Loop through each city in city list to pull today's max temp from OWM API\n",
    "    Create the query url using api key and city name\n",
    "    Pull out max temp from JSON response and append to max temp list\n",
    "    For cities that are not in OWM database, return NA\n",
    "    To comply with OWM's max 60 calls per minute, delay code 1 second each iteration\n",
    "    '''\n",
    "    \n",
    "    query_url = url + api_key + \"&q=\" + city\n",
    "    weather_response = requests.get(query_url)\n",
    "    weather_json = weather_response.json()\n",
    "    \n",
    "    try:\n",
    "        max_temps.append(weather_json['main']['temp_max'])\n",
    "    except:\n",
    "        max_temps.append('NA')\n",
    "        \n",
    "    try:\n",
    "        wind_speed.append(weather_json['wind']['speed'])\n",
    "    except:\n",
    "        wind_speed.append('NA')\n",
    "        \n",
    "    try:\n",
    "        humidity.append(weather_json['main']['humidity'])\n",
    "    except:\n",
    "        humidity.append('NA')\n",
    "        \n",
    "    try:\n",
    "        cloudiness.append(weather_json['clouds']['all'])\n",
    "    except:\n",
    "        cloudiness.append('NA')                \n",
    "        \n",
    "    time.sleep(1)\n",
    "    \n",
    "    "
   ]
  },
  {
   "cell_type": "code",
   "execution_count": 12,
   "metadata": {},
   "outputs": [
    {
     "name": "stdout",
     "output_type": "stream",
     "text": [
      "[55.59, 80.6, 78.8, 79.84, 'NA', 77.19, 93.2, 80.07, 57.25, 41.91, 64.4, 84.2, 77.95, 84.2, 52.84, 80.07, 52.84, 41, 41, 'NA', 50.95, 82.4, 58.47, 86, 58.56, 'NA', 72.06, 50, 59, 48.66]\n"
     ]
    }
   ],
   "source": [
    "\n",
    "print(max_temps)"
   ]
  },
  {
   "cell_type": "code",
   "execution_count": 22,
   "metadata": {},
   "outputs": [],
   "source": [
    "test_df = pd.DataFrame({'City' : cities[20:50], 'Max Temp' : max_temps,\n",
    "                       'Wind Speed' : wind_speed, 'Humidity' : humidity,\n",
    "                       'Cloudiness' : cloudiness})\n",
    "\n",
    "test_df = test_df[test_df['Max Temp'] != 'NA']\n",
    "test_df = test_df[['Cloudiness', 'Humidity', 'Max Temp', 'Wind Speed']].astype(float)"
   ]
  },
  {
   "cell_type": "code",
   "execution_count": 23,
   "metadata": {},
   "outputs": [
    {
     "name": "stdout",
     "output_type": "stream",
     "text": [
      "    Cloudiness  Humidity  Max Temp  Wind Speed\n",
      "0          0.0      81.0     55.59        3.83\n",
      "1          0.0      88.0     80.60        4.70\n",
      "2         75.0      83.0     78.80        3.36\n",
      "3         32.0      99.0     79.84       18.25\n",
      "5         92.0     100.0     77.19       16.46\n",
      "6          1.0      74.0     93.20        8.05\n",
      "7         32.0      63.0     80.07        4.27\n",
      "8          0.0      53.0     57.25        4.94\n",
      "9          0.0      91.0     41.91       16.02\n",
      "10        90.0      82.0     64.40        3.36\n",
      "11        20.0      83.0     84.20        6.93\n",
      "12        24.0      84.0     77.95        2.71\n",
      "13        20.0      69.0     84.20        9.17\n",
      "14         0.0      75.0     52.84        2.48\n",
      "15        56.0      88.0     80.07        7.63\n",
      "16         0.0      71.0     52.84        2.59\n",
      "17        90.0      86.0     41.00        9.17\n",
      "18        75.0      60.0     41.00       28.86\n",
      "20        92.0      93.0     50.95        9.19\n",
      "21        75.0      88.0     82.40       11.18\n",
      "22        24.0      85.0     58.47       11.65\n",
      "23        40.0      74.0     86.00       11.41\n",
      "24        80.0      90.0     58.56        2.59\n",
      "26        92.0     100.0     72.06        5.39\n",
      "27        90.0      71.0     50.00        8.95\n",
      "28        75.0     100.0     59.00        4.70\n",
      "29         0.0      69.0     48.66        2.93\n"
     ]
    }
   ],
   "source": [
    "print(test_df)"
   ]
  },
  {
   "cell_type": "code",
   "execution_count": 58,
   "metadata": {},
   "outputs": [],
   "source": [
    "max_temps = max_temps[10:]"
   ]
  },
  {
   "cell_type": "code",
   "execution_count": 15,
   "metadata": {},
   "outputs": [
    {
     "name": "stdout",
     "output_type": "stream",
     "text": [
      "http://api.openweathermap.org/data/2.5/weather?units=Imperial&APPID=e366610da7b576658f8ea67ee1c64590&q=ushuaia\n",
      "41\n"
     ]
    }
   ],
   "source": [
    "query_url = url + api_key + \"&q=\" + cities[38]\n",
    "print(query_url)\n",
    "weather_response = requests.get(query_url)\n",
    "weather_json = weather_response.json()\n",
    "\n",
    "print(weather_json['main']['temp_max'])"
   ]
  },
  {
   "cell_type": "code",
   "execution_count": 44,
   "metadata": {},
   "outputs": [
    {
     "name": "stdout",
     "output_type": "stream",
     "text": [
      "georgetown\n"
     ]
    }
   ],
   "source": [
    "print(cities[38])"
   ]
  },
  {
   "cell_type": "code",
   "execution_count": 59,
   "metadata": {},
   "outputs": [],
   "source": [
    "city_max_temps = pd.DataFrame({'city' : cities, 'max_temp' : max_temps})"
   ]
  },
  {
   "cell_type": "code",
   "execution_count": 75,
   "metadata": {},
   "outputs": [
    {
     "name": "stdout",
     "output_type": "stream",
     "text": [
      "{\n",
      "    \"base\": \"stations\",\n",
      "    \"clouds\": {\n",
      "        \"all\": 40\n",
      "    },\n",
      "    \"cod\": 200,\n",
      "    \"coord\": {\n",
      "        \"lat\": 33.72,\n",
      "        \"lon\": 135.99\n",
      "    },\n",
      "    \"dt\": 1533600000,\n",
      "    \"id\": 1847947,\n",
      "    \"main\": {\n",
      "        \"humidity\": 66,\n",
      "        \"pressure\": 1005,\n",
      "        \"temp\": 86,\n",
      "        \"temp_max\": 86,\n",
      "        \"temp_min\": 86\n",
      "    },\n",
      "    \"name\": \"Shingu\",\n",
      "    \"sys\": {\n",
      "        \"country\": \"JP\",\n",
      "        \"id\": 7515,\n",
      "        \"message\": 0.0033,\n",
      "        \"sunrise\": 1533586316,\n",
      "        \"sunset\": 1533635478,\n",
      "        \"type\": 1\n",
      "    },\n",
      "    \"visibility\": 10000,\n",
      "    \"weather\": [\n",
      "        {\n",
      "            \"description\": \"scattered clouds\",\n",
      "            \"icon\": \"03d\",\n",
      "            \"id\": 802,\n",
      "            \"main\": \"Clouds\"\n",
      "        }\n",
      "    ],\n",
      "    \"wind\": {\n",
      "        \"deg\": 340,\n",
      "        \"speed\": 3.36\n",
      "    }\n",
      "}\n"
     ]
    }
   ],
   "source": [
    "print(json.dumps(weather_json, indent = 4, sort_keys = True))"
   ]
  },
  {
   "cell_type": "code",
   "execution_count": null,
   "metadata": {},
   "outputs": [],
   "source": []
  }
 ],
 "metadata": {
  "anaconda-cloud": {},
  "kernelspec": {
   "display_name": "Python 3",
   "language": "python",
   "name": "python3"
  },
  "language_info": {
   "codemirror_mode": {
    "name": "ipython",
    "version": 3
   },
   "file_extension": ".py",
   "mimetype": "text/x-python",
   "name": "python",
   "nbconvert_exporter": "python",
   "pygments_lexer": "ipython3",
   "version": "3.6.4"
  }
 },
 "nbformat": 4,
 "nbformat_minor": 2
}
