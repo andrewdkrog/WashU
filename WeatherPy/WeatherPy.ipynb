{
 "cells": [
  {
   "cell_type": "code",
   "execution_count": 35,
   "metadata": {
    "scrolled": true
   },
   "outputs": [],
   "source": [
    "# Dependencies and Setup\n",
    "import matplotlib.pyplot as plt\n",
    "import pandas as pd\n",
    "import numpy as np\n",
    "import requests\n",
    "import time\n",
    "import openweathermapy.core as owm\n",
    "import json\n",
    "import csv\n",
    "\n",
    "# Import API key\n",
    "import api_keys\n",
    "\n",
    "# Incorporated citipy to determine city based on latitude and longitude\n",
    "from citipy import citipy\n",
    "\n",
    "# Output File (CSV)\n",
    "output_data_file = \"output_data/cities.csv\"\n",
    "\n",
    "# Range of latitudes and longitudes\n",
    "lat_range = (-90, 90)\n",
    "lng_range = (-180, 180)"
   ]
  },
  {
   "cell_type": "markdown",
   "metadata": {},
   "source": [
    "## Generate Cities List"
   ]
  },
  {
   "cell_type": "code",
   "execution_count": 40,
   "metadata": {},
   "outputs": [
    {
     "name": "stdout",
     "output_type": "stream",
     "text": [
      "592\n"
     ]
    }
   ],
   "source": [
    "# List for holding lat_lngs and cities\n",
    "lat_lngs = []\n",
    "cities = []\n",
    "latitudes = []\n",
    "\n",
    "# Create a set of random lat and lng combinations\n",
    "lats = np.random.uniform(low=-90.000, high=90.000, size=1500)\n",
    "lngs = np.random.uniform(low=-180.000, high=180.000, size=1500)\n",
    "lat_lngs = zip(lats, lngs)\n",
    "\n",
    "# Identify nearest city for each lat, lng combination\n",
    "for lat_lng in lat_lngs:\n",
    "    city = citipy.nearest_city(lat_lng[0], lat_lng[1]).city_name\n",
    "    \n",
    "    # If the city is unique, then add it to a our cities list\n",
    "    if city not in cities:\n",
    "        cities.append(city)\n",
    "        latitudes.append(lat_lng[0])\n",
    "\n",
    "# Print the city count to confirm sufficient count\n",
    "print(len(cities))"
   ]
  },
  {
   "cell_type": "markdown",
   "metadata": {},
   "source": [
    "## Perform API Calls"
   ]
  },
  {
   "cell_type": "code",
   "execution_count": 41,
   "metadata": {},
   "outputs": [],
   "source": [
    "# OpenWeatherMap API Key\n",
    "api_key = api_keys.api_key\n",
    "settings = {\"units\": \"imperial\", \"appid\": api_key}\n",
    "\n",
    "# Starting URL for Weather Map API Call\n",
    "url = \"http://api.openweathermap.org/data/2.5/weather?units=Imperial&APPID=\"\n",
    "\n",
    "query_url = url + api_key + \"&q=\" + cities[1]"
   ]
  },
  {
   "cell_type": "code",
   "execution_count": 42,
   "metadata": {},
   "outputs": [],
   "source": [
    "# Create empty lists for today's max temp\n",
    "max_temps = []\n",
    "humidity = []\n",
    "cloudiness = []\n",
    "wind_speed = []"
   ]
  },
  {
   "cell_type": "code",
   "execution_count": 43,
   "metadata": {},
   "outputs": [],
   "source": [
    "for city in cities[20:50]:\n",
    "    '''\n",
    "    Loop through each city in city list to pull today's max temp from OWM API\n",
    "    Create the query url using api key and city name\n",
    "    Pull out max temp from JSON response and append to max temp list\n",
    "    For cities that are not in OWM database, return NA\n",
    "    To comply with OWM's max 60 calls per minute, delay code 1 second each iteration\n",
    "    '''\n",
    "    \n",
    "    query_url = url + api_key + \"&q=\" + city\n",
    "    weather_response = requests.get(query_url)\n",
    "    weather_json = weather_response.json()\n",
    "    \n",
    "    try:\n",
    "        max_temps.append(weather_json['main']['temp_max'])\n",
    "    except:\n",
    "        max_temps.append('NA')\n",
    "        \n",
    "    try:\n",
    "        wind_speed.append(weather_json['wind']['speed'])\n",
    "    except:\n",
    "        wind_speed.append('NA')\n",
    "        \n",
    "    try:\n",
    "        humidity.append(weather_json['main']['humidity'])\n",
    "    except:\n",
    "        humidity.append('NA')\n",
    "        \n",
    "    try:\n",
    "        cloudiness.append(weather_json['clouds']['all'])\n",
    "    except:\n",
    "        cloudiness.append('NA')                \n",
    "        \n",
    "    time.sleep(1)\n",
    "    \n",
    "    "
   ]
  },
  {
   "cell_type": "code",
   "execution_count": 45,
   "metadata": {},
   "outputs": [],
   "source": [
    "cities = cities[20:50]\n",
    "latitudes = latitudes[20:50]"
   ]
  },
  {
   "cell_type": "code",
   "execution_count": 50,
   "metadata": {},
   "outputs": [],
   "source": [
    "owm_df = pd.DataFrame({'City' : cities, 'Latitude' : latitudes, 'Max Temp' : max_temps,\n",
    "                       'Wind Speed' : wind_speed, 'Humidity' : humidity, 'Cloudiness' : cloudiness})\n",
    "\n",
    "owm_df = owm_df[owm_df['Max Temp'] != 'NA']\n",
    "owm_df[['Cloudiness', 'Humidity', 'Max Temp', 'Wind Speed', 'Latitude']] = owm_df[['Cloudiness', 'Humidity', 'Max Temp', 'Wind Speed', 'Latitude']].astype(float)"
   ]
  },
  {
   "cell_type": "code",
   "execution_count": 51,
   "metadata": {},
   "outputs": [
    {
     "name": "stdout",
     "output_type": "stream",
     "text": [
      "                     City  Cloudiness  Humidity   Latitude  Max Temp  \\\n",
      "0                    naze        75.0      94.0  27.260059     75.20   \n",
      "2                  hasaki        75.0      94.0  29.650025     75.20   \n",
      "3                  talaya         0.0      86.0  60.436623     51.99   \n",
      "4                    hilo        90.0      88.0  22.089373     78.80   \n",
      "5             east london        80.0     100.0 -56.112460     57.84   \n",
      "6                    lebu        56.0      88.0 -32.771728     49.24   \n",
      "7               cape town         0.0      76.0 -48.669620     50.00   \n",
      "8                 derbent         0.0      87.0  42.733838     64.36   \n",
      "9                    lasa         0.0      61.0  34.463948     82.40   \n",
      "11                  pevek        12.0     100.0  78.891465     39.61   \n",
      "12           port hedland         0.0      43.0 -19.267269     51.80   \n",
      "13               cherskiy         0.0      69.0  79.073763     48.66   \n",
      "14            port alfred        88.0     100.0 -70.733072     54.69   \n",
      "15                   ambo        92.0      94.0 -10.378655     50.37   \n",
      "16                   dali        80.0     100.0  25.968238     61.08   \n",
      "17                 hobart        75.0      61.0 -81.428519     50.00   \n",
      "18                rikitea        12.0     100.0 -29.777523     74.49   \n",
      "19             north bend        20.0      77.0  44.240363     64.40   \n",
      "20             nikolskoye         0.0      76.0  56.183094     57.20   \n",
      "21              busselton        64.0     100.0 -64.069000     54.28   \n",
      "22  mayor pablo lagerenza        80.0      44.0 -19.297523     66.12   \n",
      "23             georgetown        75.0      83.0 -17.579515     80.60   \n",
      "24                gangtok        24.0      89.0  27.455146     43.84   \n",
      "25            new norfolk        75.0      61.0 -44.317258     50.00   \n",
      "26                  teeli        68.0      94.0  51.317893     48.48   \n",
      "27               hermanus         8.0     100.0 -47.352415     33.04   \n",
      "28               souillac         0.0      64.0 -36.435641     69.80   \n",
      "29               lokosovo         8.0      90.0  59.711297     56.71   \n",
      "\n",
      "    Wind Speed  \n",
      "0         4.72  \n",
      "2        18.34  \n",
      "3         2.59  \n",
      "4         3.36  \n",
      "5         9.64  \n",
      "6         2.04  \n",
      "7        11.41  \n",
      "8         1.81  \n",
      "9         4.70  \n",
      "11        2.82  \n",
      "12        5.82  \n",
      "13        2.93  \n",
      "14        7.96  \n",
      "15        0.58  \n",
      "16        2.15  \n",
      "17        5.82  \n",
      "18       10.09  \n",
      "19        8.05  \n",
      "20        6.71  \n",
      "21       29.55  \n",
      "22       17.36  \n",
      "23        6.93  \n",
      "24        1.59  \n",
      "25        5.82  \n",
      "26        2.37  \n",
      "27        3.60  \n",
      "28       10.29  \n",
      "29        2.93  \n"
     ]
    }
   ],
   "source": [
    "print(owm_df)"
   ]
  },
  {
   "cell_type": "code",
   "execution_count": 52,
   "metadata": {},
   "outputs": [],
   "source": [
    "owm_df.to_csv(\"city_weather_df\")"
   ]
  },
  {
   "cell_type": "code",
   "execution_count": 54,
   "metadata": {},
   "outputs": [
    {
     "data": {
      "text/plain": [
       "Text(0.5,1,'Cloudiness by Latitude')"
      ]
     },
     "execution_count": 54,
     "metadata": {},
     "output_type": "execute_result"
    },
    {
     "data": {
      "image/png": "[encoded data removed]",
      "text/plain": [
       "<matplotlib.figure.Figure at 0x13ada0a12b0>"
      ]
     },
     "metadata": {},
     "output_type": "display_data"
    }
   ],
   "source": [
    "owm_df.plot(kind = 'scatter', x = 'Latitude', y = 'Cloudiness')\n",
    "plt.title('Cloudiness by Latitude')"
   ]
  },
  {
   "cell_type": "code",
   "execution_count": 55,
   "metadata": {},
   "outputs": [
    {
     "data": {
      "text/plain": [
       "Text(0.5,1,'Humidity (%) by Latitude')"
      ]
     },
     "execution_count": 55,
     "metadata": {},
     "output_type": "execute_result"
    },
    {
     "data": {
      "image/png": "[encoded data removed]",
      "text/plain": [
       "<matplotlib.figure.Figure at 0x13ad9c6df98>"
      ]
     },
     "metadata": {},
     "output_type": "display_data"
    }
   ],
   "source": [
    "owm_df.plot(kind = 'scatter', x = 'Latitude', y = 'Humidity')\n",
    "plt.title('Humidity (%) by Latitude')"
   ]
  },
  {
   "cell_type": "code",
   "execution_count": 56,
   "metadata": {},
   "outputs": [
    {
     "data": {
      "text/plain": [
       "Text(0.5,1,'Wind Speed by Latitude')"
      ]
     },
     "execution_count": 56,
     "metadata": {},
     "output_type": "execute_result"
    },
    {
     "data": {
      "image/png": "[encoded data removed]",
      "text/plain": [
       "<matplotlib.figure.Figure at 0x13ada0a1ef0>"
      ]
     },
     "metadata": {},
     "output_type": "display_data"
    }
   ],
   "source": [
    "owm_df.plot(kind = 'scatter', x = 'Latitude', y = 'Wind Speed')\n",
    "plt.title('Wind Speed by Latitude')"
   ]
  },
  {
   "cell_type": "code",
   "execution_count": 57,
   "metadata": {},
   "outputs": [
    {
     "data": {
      "text/plain": [
       "Text(0.5,1,'Max Temp by Latitude')"
      ]
     },
     "execution_count": 57,
     "metadata": {},
     "output_type": "execute_result"
    },
    {
     "data": {
      "image/png": "[encoded data removed]",
      "text/plain": [
       "<matplotlib.figure.Figure at 0x13adb18d1d0>"
      ]
     },
     "metadata": {},
     "output_type": "display_data"
    }
   ],
   "source": [
    "owm_df.plot(kind = 'scatter', x = 'Latitude', y = 'Max Temp')\n",
    "plt.title('Max Temp by Latitude')"
   ]
  },
  {
   "cell_type": "code",
   "execution_count": null,
   "metadata": {},
   "outputs": [],
   "source": []
  }
 ],
 "metadata": {
  "anaconda-cloud": {},
  "kernelspec": {
   "display_name": "Python 3",
   "language": "python",
   "name": "python3"
  },
  "language_info": {
   "codemirror_mode": {
    "name": "ipython",
    "version": 3
   },
   "file_extension": ".py",
   "mimetype": "text/x-python",
   "name": "python",
   "nbconvert_exporter": "python",
   "pygments_lexer": "ipython3",
   "version": "3.6.4"
  }
 },
 "nbformat": 4,
 "nbformat_minor": 2
}
