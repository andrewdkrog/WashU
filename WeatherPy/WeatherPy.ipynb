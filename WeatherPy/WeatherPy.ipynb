{
 "cells": [
  {
   "cell_type": "code",
   "execution_count": 25,
   "metadata": {
    "scrolled": true
   },
   "outputs": [],
   "source": [
    "# Dependencies and Setup\n",
    "import matplotlib.pyplot as plt\n",
    "import pandas as pd\n",
    "import numpy as np\n",
    "import requests\n",
    "import time\n",
    "import openweathermapy.core as owm\n",
    "import json\n",
    "\n",
    "# Import API key\n",
    "import api_keys\n",
    "\n",
    "# Incorporated citipy to determine city based on latitude and longitude\n",
    "from citipy import citipy\n",
    "\n",
    "# Output File (CSV)\n",
    "output_data_file = \"output_data/cities.csv\"\n",
    "\n",
    "# Range of latitudes and longitudes\n",
    "lat_range = (-90, 90)\n",
    "lng_range = (-180, 180)"
   ]
  },
  {
   "cell_type": "markdown",
   "metadata": {},
   "source": [
    "## Generate Cities List"
   ]
  },
  {
   "cell_type": "code",
   "execution_count": 63,
   "metadata": {},
   "outputs": [
    {
     "name": "stdout",
     "output_type": "stream",
     "text": [
      "613\n"
     ]
    }
   ],
   "source": [
    "# List for holding lat_lngs and cities\n",
    "lat_lngs = []\n",
    "cities = []\n",
    "latitudes = []\n",
    "\n",
    "# Create a set of random lat and lng combinations\n",
    "lats = np.random.uniform(low=-90.000, high=90.000, size=1500)\n",
    "lngs = np.random.uniform(low=-180.000, high=180.000, size=1500)\n",
    "lat_lngs = zip(lats, lngs)\n",
    "\n",
    "# Identify nearest city for each lat, lng combination\n",
    "for lat_lng in lat_lngs:\n",
    "    city = citipy.nearest_city(lat_lng[0], lat_lng[1]).city_name\n",
    "    \n",
    "    # If the city is unique, then add it to a our cities list\n",
    "    if city not in cities:\n",
    "        cities.append(city)\n",
    "        latitudes.append(lats)\n",
    "\n",
    "# Print the city count to confirm sufficient count\n",
    "print(len(cities))"
   ]
  },
  {
   "cell_type": "markdown",
   "metadata": {},
   "source": [
    "## Perform API Calls"
   ]
  },
  {
   "cell_type": "code",
   "execution_count": 64,
   "metadata": {},
   "outputs": [],
   "source": [
    "# OpenWeatherMap API Key\n",
    "api_key = api_keys.api_key\n",
    "settings = {\"units\": \"imperial\", \"appid\": api_key}\n",
    "\n",
    "# Starting URL for Weather Map API Call\n",
    "url = \"http://api.openweathermap.org/data/2.5/weather?units=Imperial&APPID=\"\n",
    "\n",
    "query_url = url + api_key + \"&q=\" + cities[1]"
   ]
  },
  {
   "cell_type": "code",
   "execution_count": 65,
   "metadata": {},
   "outputs": [],
   "source": [
    "# Create empty lists for city name and today's max temp\n",
    "city_list = []\n",
    "max_temps = []"
   ]
  },
  {
   "cell_type": "code",
   "execution_count": 70,
   "metadata": {},
   "outputs": [],
   "source": [
    "for city in cities[20:50]:\n",
    "    '''\n",
    "    Loop through each city in city list to pull today's max temp from OWM API\n",
    "    Create the query url using api key and city name\n",
    "    Pull out max temp from JSON response and append to max temp list\n",
    "    For cities that are not in OWM database, return NA\n",
    "    To comply with OWM's max 60 calls per minute, delay code 1 second each iteration\n",
    "    '''\n",
    "    \n",
    "    query_url = url + api_key + \"&q=\" + city\n",
    "    weather_response = requests.get(query_url)\n",
    "    weather_json = weather_response.json()\n",
    "    \n",
    "    try:\n",
    "        max_temps.append(weather_json['main']['temp_max'])\n",
    "    except:\n",
    "        max_temps.append('NA')\n",
    "        \n",
    "    time.sleep(1)\n",
    "    \n",
    "    "
   ]
  },
  {
   "cell_type": "code",
   "execution_count": 71,
   "metadata": {},
   "outputs": [
    {
     "name": "stdout",
     "output_type": "stream",
     "text": [
      "['nikolskoye', 'illoqqortoormiut', 'NA', 'port alfred', 'samusu', 'NA', 'belaya gora', 'avarua', 'vaini', 'bolshegrivskoye', 'NA', 'punta arenas', 'cherskiy', 'rungata', 'NA', 'maniitsoq', 'longyearbyen', 'alta floresta', 'port macquarie', 'sungaipenuh', 'east london', 'coihaique', 'shingu', 'kupang', 'yeletskiy', 'NA', 'galveston', 'barrow', 'kapaa', 'victoria', 'najran', 'pryazha', 'xichang', 'grenaa', 'te anau']\n",
      "[59, 'NA', 58.71, 'NA', 55.47, 70.32, 69.15, 'NA', 33.8, 48.18, 'NA', 47.91, 46.4, 85.8, 60.8, 64.83, 65.37, 37.4, 86, 80.6, 'NA', 82.4, 60.69, 84.2, 80.6, 82.4, 51.8, 57.81, 62.6, 38.55, 59, 'NA', 58.71, 'NA', 55.47, 70.32, 69.15, 'NA', 33.8, 48.18, 'NA', 47.91, 46.4, 85.8, 60.8, 64.83, 65.37, 37.4, 86, 80.6, 'NA', 82.4, 60.69, 84.2, 80.6, 82.4, 51.8, 57.81, 62.6, 38.55]\n"
     ]
    }
   ],
   "source": [
    "print(city_list)\n",
    "print(max_temps)"
   ]
  },
  {
   "cell_type": "code",
   "execution_count": 68,
   "metadata": {},
   "outputs": [
    {
     "data": {
      "text/plain": [
       "35"
      ]
     },
     "execution_count": 68,
     "metadata": {},
     "output_type": "execute_result"
    }
   ],
   "source": [
    "len(city_list)"
   ]
  },
  {
   "cell_type": "code",
   "execution_count": 72,
   "metadata": {},
   "outputs": [
    {
     "data": {
      "text/plain": [
       "60"
      ]
     },
     "execution_count": 72,
     "metadata": {},
     "output_type": "execute_result"
    }
   ],
   "source": [
    "len(max_temps)"
   ]
  },
  {
   "cell_type": "code",
   "execution_count": 57,
   "metadata": {},
   "outputs": [
    {
     "data": {
      "text/plain": [
       "615"
      ]
     },
     "execution_count": 57,
     "metadata": {},
     "output_type": "execute_result"
    }
   ],
   "source": [
    "len(max_temps[10:])"
   ]
  },
  {
   "cell_type": "code",
   "execution_count": 58,
   "metadata": {},
   "outputs": [],
   "source": [
    "max_temps = max_temps[10:]"
   ]
  },
  {
   "cell_type": "code",
   "execution_count": 73,
   "metadata": {},
   "outputs": [
    {
     "name": "stdout",
     "output_type": "stream",
     "text": [
      "http://api.openweathermap.org/data/2.5/weather?units=Imperial&APPID=e366610da7b576658f8ea67ee1c64590&q=shingu\n",
      "86\n"
     ]
    }
   ],
   "source": [
    "query_url = url + api_key + \"&q=\" + cities[38]\n",
    "print(query_url)\n",
    "weather_response = requests.get(query_url)\n",
    "weather_json = weather_response.json()\n",
    "\n",
    "print(weather_json['main']['temp_max'])"
   ]
  },
  {
   "cell_type": "code",
   "execution_count": 44,
   "metadata": {},
   "outputs": [
    {
     "name": "stdout",
     "output_type": "stream",
     "text": [
      "georgetown\n"
     ]
    }
   ],
   "source": [
    "print(cities[38])"
   ]
  },
  {
   "cell_type": "code",
   "execution_count": 59,
   "metadata": {},
   "outputs": [],
   "source": [
    "city_max_temps = pd.DataFrame({'city' : cities, 'max_temp' : max_temps})"
   ]
  },
  {
   "cell_type": "code",
   "execution_count": 75,
   "metadata": {},
   "outputs": [
    {
     "name": "stdout",
     "output_type": "stream",
     "text": [
      "{\n",
      "    \"base\": \"stations\",\n",
      "    \"clouds\": {\n",
      "        \"all\": 40\n",
      "    },\n",
      "    \"cod\": 200,\n",
      "    \"coord\": {\n",
      "        \"lat\": 33.72,\n",
      "        \"lon\": 135.99\n",
      "    },\n",
      "    \"dt\": 1533600000,\n",
      "    \"id\": 1847947,\n",
      "    \"main\": {\n",
      "        \"humidity\": 66,\n",
      "        \"pressure\": 1005,\n",
      "        \"temp\": 86,\n",
      "        \"temp_max\": 86,\n",
      "        \"temp_min\": 86\n",
      "    },\n",
      "    \"name\": \"Shingu\",\n",
      "    \"sys\": {\n",
      "        \"country\": \"JP\",\n",
      "        \"id\": 7515,\n",
      "        \"message\": 0.0033,\n",
      "        \"sunrise\": 1533586316,\n",
      "        \"sunset\": 1533635478,\n",
      "        \"type\": 1\n",
      "    },\n",
      "    \"visibility\": 10000,\n",
      "    \"weather\": [\n",
      "        {\n",
      "            \"description\": \"scattered clouds\",\n",
      "            \"icon\": \"03d\",\n",
      "            \"id\": 802,\n",
      "            \"main\": \"Clouds\"\n",
      "        }\n",
      "    ],\n",
      "    \"wind\": {\n",
      "        \"deg\": 340,\n",
      "        \"speed\": 3.36\n",
      "    }\n",
      "}\n"
     ]
    }
   ],
   "source": [
    "print(json.dumps(weather_json, indent = 4, sort_keys = True))"
   ]
  },
  {
   "cell_type": "code",
   "execution_count": null,
   "metadata": {},
   "outputs": [],
   "source": []
  }
 ],
 "metadata": {
  "anaconda-cloud": {},
  "kernelspec": {
   "display_name": "Python 3",
   "language": "python",
   "name": "python3"
  },
  "language_info": {
   "codemirror_mode": {
    "name": "ipython",
    "version": 3
   },
   "file_extension": ".py",
   "mimetype": "text/x-python",
   "name": "python",
   "nbconvert_exporter": "python",
   "pygments_lexer": "ipython3",
   "version": "3.6.4"
  }
 },
 "nbformat": 4,
 "nbformat_minor": 2
}
