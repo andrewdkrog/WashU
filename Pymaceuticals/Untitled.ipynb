{
 "cells": [
  {
   "cell_type": "code",
   "execution_count": 1,
   "metadata": {},
   "outputs": [
    {
     "ename": "SyntaxError",
     "evalue": "invalid syntax (<ipython-input-1-ae633f95f133>, line 1)",
     "output_type": "error",
     "traceback": [
      "\u001b[1;36m  File \u001b[1;32m\"<ipython-input-1-ae633f95f133>\"\u001b[1;36m, line \u001b[1;32m1\u001b[0m\n\u001b[1;33m    var map;\u001b[0m\n\u001b[1;37m          ^\u001b[0m\n\u001b[1;31mSyntaxError\u001b[0m\u001b[1;31m:\u001b[0m invalid syntax\n"
     ]
    }
   ],
   "source": [
    "var map;\n",
    "var service;\n",
    "var infowindow;\n",
    "\n",
    "function initMap() {\n",
    "  var mapCenter = new google.maps.LatLng(-33.8617374,151.2021291);\n",
    "\n",
    "  map = new google.maps.Map(document.getElementById('map'), {\n",
    "    center: mapCenter,\n",
    "    zoom: 15\n",
    "  });\n",
    "\n",
    "  var request = {\n",
    "    query: 'Museum of Contemporary Art Australia',\n",
    "    fields: ['photos', 'formatted_address', 'name', 'rating', 'opening_hours', 'geometry'],\n",
    "\n",
    "  service = new google.maps.places.PlacesService(map);\n",
    "  service.findPlaceFromQuery(request, callback);\n",
    "}\n",
    "\n",
    "function callback(results, status) {\n",
    "  if (status == google.maps.places.PlacesServiceStatus.OK) {\n",
    "    for (var i = 0; i < results.length; i++) {\n",
    "      var place = results[i];\n",
    "      createMarker(results[i]);\n",
    "    }\n",
    "  }\n",
    "}"
   ]
  },
  {
   "cell_type": "code",
   "execution_count": null,
   "metadata": {},
   "outputs": [],
   "source": []
  }
 ],
 "metadata": {
  "kernelspec": {
   "display_name": "Python 3",
   "language": "python",
   "name": "python3"
  },
  "language_info": {
   "codemirror_mode": {
    "name": "ipython",
    "version": 3
   },
   "file_extension": ".py",
   "mimetype": "text/x-python",
   "name": "python",
   "nbconvert_exporter": "python",
   "pygments_lexer": "ipython3",
   "version": "3.6.4"
  }
 },
 "nbformat": 4,
 "nbformat_minor": 2
}
