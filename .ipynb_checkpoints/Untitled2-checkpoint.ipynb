{
 "cells": [
  {
   "cell_type": "code",
   "execution_count": 15,
   "metadata": {},
   "outputs": [],
   "source": [
    "class Surfer():\n",
    "    def __init__ (self, name, hometown, rank, wipeouts, count):\n",
    "        self.name = name\n",
    "        self.hometown = hometown\n",
    "        self.rank = rank\n",
    "        self.wipeouts = wipeouts\n",
    "        self.count = count\n",
    "        \n",
    "    def speak():\n",
    "        print(\"Hangs loose, bruh!\")\n",
    "        \n",
    "    def bio(self, obj):\n",
    "        print(obj.name)\n",
    "        print(obj.hometown)\n",
    "        \n",
    "    def cheer(self, obj):\n",
    "        if obj.wipeouts == 0:\n",
    "            print(\"I totally rock man, no wipeouts!\")\n",
    "        else:\n",
    "            print(\"Bummer bruh, keep on keeping on!\")\n",
    "            "
   ]
  },
  {
   "cell_type": "code",
   "execution_count": 16,
   "metadata": {},
   "outputs": [],
   "source": [
    "bill = Surfer(\"Bill\", \"SD\", 5, 0, 1)"
   ]
  },
  {
   "cell_type": "code",
   "execution_count": 19,
   "metadata": {},
   "outputs": [
    {
     "name": "stdout",
     "output_type": "stream",
     "text": [
      "I totally rock man, no wipeouts!\n"
     ]
    }
   ],
   "source": [
    "bill.cheer(bill)"
   ]
  },
  {
   "cell_type": "code",
   "execution_count": 5,
   "metadata": {},
   "outputs": [],
   "source": []
  },
  {
   "cell_type": "code",
   "execution_count": 6,
   "metadata": {},
   "outputs": [
    {
     "data": {
      "text/plain": [
       "[<__main__.Surfer at 0x1b4eb568eb8>, <__main__.Surfer at 0x1b4eb568f60>]"
      ]
     },
     "execution_count": 6,
     "metadata": {},
     "output_type": "execute_result"
    }
   ],
   "source": [
    "surfer_list"
   ]
  },
  {
   "cell_type": "code",
   "execution_count": null,
   "metadata": {},
   "outputs": [],
   "source": []
  }
 ],
 "metadata": {
  "kernelspec": {
   "display_name": "Python 3",
   "language": "python",
   "name": "python3"
  },
  "language_info": {
   "codemirror_mode": {
    "name": "ipython",
    "version": 3
   },
   "file_extension": ".py",
   "mimetype": "text/x-python",
   "name": "python",
   "nbconvert_exporter": "python",
   "pygments_lexer": "ipython3",
   "version": "3.6.4"
  }
 },
 "nbformat": 4,
 "nbformat_minor": 2
}
